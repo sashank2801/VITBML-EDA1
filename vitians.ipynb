{
  "nbformat": 4,
  "nbformat_minor": 0,
  "metadata": {
    "colab": {
      "name": "vitians.ipynb",
      "provenance": [],
      "include_colab_link": true
    },
    "kernelspec": {
      "name": "python3",
      "display_name": "Python 3"
    }
  },
  "cells": [
    {
      "cell_type": "markdown",
      "metadata": {
        "id": "view-in-github",
        "colab_type": "text"
      },
      "source": [
        "<a href=\"https://colab.research.google.com/github/sashank2801/VITBML-EDA1/blob/master/vitians.ipynb\" target=\"_parent\"><img src=\"https://colab.research.google.com/assets/colab-badge.svg\" alt=\"Open In Colab\"/></a>"
      ]
    },
    {
      "cell_type": "markdown",
      "metadata": {
        "id": "DpO7fCkcGKMH",
        "colab_type": "text"
      },
      "source": [
        "* 19PA1A05D3\n",
        "* 19PA1A05E6\n",
        "* 19PA1A05F1\n",
        "* 19PA1A05F6"
      ]
    },
    {
      "cell_type": "markdown",
      "metadata": {
        "id": "EAwsJqO3AKvE",
        "colab_type": "text"
      },
      "source": [
        "**Description**"
      ]
    },
    {
      "cell_type": "markdown",
      "metadata": {
        "id": "T-XzghdcAben",
        "colab_type": "text"
      },
      "source": [
        "The following dataset is about the starter's investments. The dataset consists the name of the company, homepage url, market shares, the year in which it was established, and number of rounds in the market. The infromation(dataset) given below is very useful for the investers which are new for investing market. Through the dataset we can easily find the compnay which is doing more investments."
      ]
    },
    {
      "cell_type": "code",
      "metadata": {
        "id": "1pZyuWzmtsjz",
        "colab_type": "code",
        "colab": {}
      },
      "source": [
        "import pandas as pd\n",
        "import numpy as np\n",
        "import matplotlib.pyplot as plt"
      ],
      "execution_count": 0,
      "outputs": []
    },
    {
      "cell_type": "code",
      "metadata": {
        "id": "WvgAFwRvu7TJ",
        "colab_type": "code",
        "outputId": "8d0d621a-cec5-4ab4-a13c-fbf490154e3a",
        "colab": {
          "base_uri": "https://localhost:8080/",
          "height": 85
        }
      },
      "source": [
        "si=pd.read_csv(\"starting_investments.csv\")\n",
        "si.columns"
      ],
      "execution_count": 0,
      "outputs": [
        {
          "output_type": "execute_result",
          "data": {
            "text/plain": [
              "Index(['name', 'homepage_url', ' market ', 'status', 'region',\n",
              "       'funding_rounds', 'founded_year', 'round_C', 'round_D', 'round_E',\n",
              "       'Unnamed: 10'],\n",
              "      dtype='object')"
            ]
          },
          "metadata": {
            "tags": []
          },
          "execution_count": 29
        }
      ]
    },
    {
      "cell_type": "markdown",
      "metadata": {
        "colab_type": "text",
        "id": "87Ee8URQ9Qi-"
      },
      "source": [
        "Details About Each Variable\n",
        "\n",
        "*   name            :      Name of the company  \n",
        "*   homepage_url   :      Website url\n",
        "*   market         :      World market\n",
        "*   status         :      Status of the investment\n",
        "*   region         :      Region of the company\n",
        "*   funding_rounds :      Number of rounds\n",
        "*   founded_year   :      Year it is founded  \n",
        "*   round_C        :      Round no C\n",
        "*   round_D        :      Round no D\n",
        "*   round_E        :      Round no E\n"
      ]
    },
    {
      "cell_type": "markdown",
      "metadata": {
        "id": "ZDcr6EbC82Wn",
        "colab_type": "text"
      },
      "source": [
        "Questions\n",
        "1. What are pandas data strucutres?\n",
        "2. What is the dataframe for variance?\n",
        "3. How to find central tendency for a dataset?\n",
        "4. How can we find the location or position a element?\n",
        "5. how to print first 5 rows of the dataset and last 5 rows?\n",
        "6. What is the dataframe to replace the null values in Pandas?\n",
        "7. How can we draw a set or bar graph for the given dataset?"
      ]
    },
    {
      "cell_type": "code",
      "metadata": {
        "id": "tRQUXNmK2haP",
        "colab_type": "code",
        "outputId": "28f7ab67-b9b9-495d-f08a-08de9b11dc94",
        "colab": {
          "base_uri": "https://localhost:8080/",
          "height": 626
        }
      },
      "source": [
        "si"
      ],
      "execution_count": 0,
      "outputs": [
        {
          "output_type": "execute_result",
          "data": {
            "text/html": [
              "<div>\n",
              "<style scoped>\n",
              "    .dataframe tbody tr th:only-of-type {\n",
              "        vertical-align: middle;\n",
              "    }\n",
              "\n",
              "    .dataframe tbody tr th {\n",
              "        vertical-align: top;\n",
              "    }\n",
              "\n",
              "    .dataframe thead th {\n",
              "        text-align: right;\n",
              "    }\n",
              "</style>\n",
              "<table border=\"1\" class=\"dataframe\">\n",
              "  <thead>\n",
              "    <tr style=\"text-align: right;\">\n",
              "      <th></th>\n",
              "      <th>name</th>\n",
              "      <th>homepage_url</th>\n",
              "      <th>market</th>\n",
              "      <th>status</th>\n",
              "      <th>region</th>\n",
              "      <th>funding_rounds</th>\n",
              "      <th>founded_year</th>\n",
              "      <th>round_C</th>\n",
              "      <th>round_D</th>\n",
              "      <th>round_E</th>\n",
              "      <th>Unnamed: 10</th>\n",
              "    </tr>\n",
              "  </thead>\n",
              "  <tbody>\n",
              "    <tr>\n",
              "      <th>0</th>\n",
              "      <td>#waywire</td>\n",
              "      <td>http://www.waywire.com</td>\n",
              "      <td>News</td>\n",
              "      <td>acquired</td>\n",
              "      <td>New York City</td>\n",
              "      <td>1</td>\n",
              "      <td>2012</td>\n",
              "      <td>0</td>\n",
              "      <td>0</td>\n",
              "      <td>0</td>\n",
              "      <td>NaN</td>\n",
              "    </tr>\n",
              "    <tr>\n",
              "      <th>1</th>\n",
              "      <td>&amp;TV Communications</td>\n",
              "      <td>http://enjoyandtv.com</td>\n",
              "      <td>Games</td>\n",
              "      <td>operating</td>\n",
              "      <td>Los Angeles</td>\n",
              "      <td>2</td>\n",
              "      <td>NaN</td>\n",
              "      <td>0</td>\n",
              "      <td>0</td>\n",
              "      <td>0</td>\n",
              "      <td>NaN</td>\n",
              "    </tr>\n",
              "    <tr>\n",
              "      <th>2</th>\n",
              "      <td>'Rock' Your Paper</td>\n",
              "      <td>http://www.rockyourpaper.org</td>\n",
              "      <td>Publishing</td>\n",
              "      <td>operating</td>\n",
              "      <td>Tallinn</td>\n",
              "      <td>1</td>\n",
              "      <td>2012</td>\n",
              "      <td>0</td>\n",
              "      <td>0</td>\n",
              "      <td>0</td>\n",
              "      <td>NaN</td>\n",
              "    </tr>\n",
              "    <tr>\n",
              "      <th>3</th>\n",
              "      <td>(In)Touch Network</td>\n",
              "      <td>http://www.InTouchNetwork.com</td>\n",
              "      <td>Electronics</td>\n",
              "      <td>operating</td>\n",
              "      <td>London</td>\n",
              "      <td>1</td>\n",
              "      <td>2011</td>\n",
              "      <td>0</td>\n",
              "      <td>0</td>\n",
              "      <td>0</td>\n",
              "      <td>NaN</td>\n",
              "    </tr>\n",
              "    <tr>\n",
              "      <th>4</th>\n",
              "      <td>-R- Ranch and Mine</td>\n",
              "      <td>NaN</td>\n",
              "      <td>Tourism</td>\n",
              "      <td>operating</td>\n",
              "      <td>Dallas</td>\n",
              "      <td>2</td>\n",
              "      <td>2014</td>\n",
              "      <td>0</td>\n",
              "      <td>0</td>\n",
              "      <td>0</td>\n",
              "      <td>NaN</td>\n",
              "    </tr>\n",
              "    <tr>\n",
              "      <th>...</th>\n",
              "      <td>...</td>\n",
              "      <td>...</td>\n",
              "      <td>...</td>\n",
              "      <td>...</td>\n",
              "      <td>...</td>\n",
              "      <td>...</td>\n",
              "      <td>...</td>\n",
              "      <td>...</td>\n",
              "      <td>...</td>\n",
              "      <td>...</td>\n",
              "      <td>...</td>\n",
              "    </tr>\n",
              "    <tr>\n",
              "      <th>49433</th>\n",
              "      <td>Zzish</td>\n",
              "      <td>http://www.zzish.com</td>\n",
              "      <td>Education</td>\n",
              "      <td>operating</td>\n",
              "      <td>London</td>\n",
              "      <td>1</td>\n",
              "      <td>2013</td>\n",
              "      <td>0</td>\n",
              "      <td>0</td>\n",
              "      <td>0</td>\n",
              "      <td>NaN</td>\n",
              "    </tr>\n",
              "    <tr>\n",
              "      <th>49434</th>\n",
              "      <td>ZZNode Science and Technology</td>\n",
              "      <td>http://www.zznode.com</td>\n",
              "      <td>Enterprise Software</td>\n",
              "      <td>operating</td>\n",
              "      <td>Beijing</td>\n",
              "      <td>1</td>\n",
              "      <td>NaN</td>\n",
              "      <td>0</td>\n",
              "      <td>0</td>\n",
              "      <td>0</td>\n",
              "      <td>NaN</td>\n",
              "    </tr>\n",
              "    <tr>\n",
              "      <th>49435</th>\n",
              "      <td>Zzzzapp Wireless ltd.</td>\n",
              "      <td>http://www.zzzzapp.com</td>\n",
              "      <td>Web Development</td>\n",
              "      <td>operating</td>\n",
              "      <td>Split</td>\n",
              "      <td>5</td>\n",
              "      <td>2012</td>\n",
              "      <td>0</td>\n",
              "      <td>0</td>\n",
              "      <td>0</td>\n",
              "      <td>NaN</td>\n",
              "    </tr>\n",
              "    <tr>\n",
              "      <th>49436</th>\n",
              "      <td>[a]list games</td>\n",
              "      <td>http://www.alistgames.com</td>\n",
              "      <td>Games</td>\n",
              "      <td>operating</td>\n",
              "      <td>NaN</td>\n",
              "      <td>1</td>\n",
              "      <td>NaN</td>\n",
              "      <td>0</td>\n",
              "      <td>0</td>\n",
              "      <td>0</td>\n",
              "      <td>NaN</td>\n",
              "    </tr>\n",
              "    <tr>\n",
              "      <th>49437</th>\n",
              "      <td>[x+1]</td>\n",
              "      <td>http://www.xplusone.com/</td>\n",
              "      <td>Enterprise Software</td>\n",
              "      <td>operating</td>\n",
              "      <td>New York City</td>\n",
              "      <td>4</td>\n",
              "      <td>1999</td>\n",
              "      <td>0</td>\n",
              "      <td>0</td>\n",
              "      <td>0</td>\n",
              "      <td>NaN</td>\n",
              "    </tr>\n",
              "  </tbody>\n",
              "</table>\n",
              "<p>49438 rows × 11 columns</p>\n",
              "</div>"
            ],
            "text/plain": [
              "                                name  ... Unnamed: 10\n",
              "0                           #waywire  ...         NaN\n",
              "1                 &TV Communications  ...         NaN\n",
              "2                  'Rock' Your Paper  ...         NaN\n",
              "3                  (In)Touch Network  ...         NaN\n",
              "4                 -R- Ranch and Mine  ...         NaN\n",
              "...                              ...  ...         ...\n",
              "49433                          Zzish  ...         NaN\n",
              "49434  ZZNode Science and Technology  ...         NaN\n",
              "49435          Zzzzapp Wireless ltd.  ...         NaN\n",
              "49436                  [a]list games  ...         NaN\n",
              "49437                          [x+1]  ...         NaN\n",
              "\n",
              "[49438 rows x 11 columns]"
            ]
          },
          "metadata": {
            "tags": []
          },
          "execution_count": 30
        }
      ]
    },
    {
      "cell_type": "markdown",
      "metadata": {
        "id": "62uuHvri-4JB",
        "colab_type": "text"
      },
      "source": [
        "Preliminary Analysis"
      ]
    },
    {
      "cell_type": "code",
      "metadata": {
        "id": "jd6TeS9y--wz",
        "colab_type": "code",
        "outputId": "2710a4b6-4fe3-4d7b-e96b-5fe5137b7ad0",
        "colab": {
          "base_uri": "https://localhost:8080/",
          "height": 34
        }
      },
      "source": [
        "si.shape"
      ],
      "execution_count": 0,
      "outputs": [
        {
          "output_type": "execute_result",
          "data": {
            "text/plain": [
              "(49438, 11)"
            ]
          },
          "metadata": {
            "tags": []
          },
          "execution_count": 31
        }
      ]
    },
    {
      "cell_type": "code",
      "metadata": {
        "id": "6gf9zNk1_H-O",
        "colab_type": "code",
        "outputId": "568c8417-72dd-4aac-f050-62ba95bb3bff",
        "colab": {
          "base_uri": "https://localhost:8080/",
          "height": 289
        }
      },
      "source": [
        "si.info()"
      ],
      "execution_count": 0,
      "outputs": [
        {
          "output_type": "stream",
          "text": [
            "<class 'pandas.core.frame.DataFrame'>\n",
            "RangeIndex: 49438 entries, 0 to 49437\n",
            "Data columns (total 11 columns):\n",
            "name              49437 non-null object\n",
            "homepage_url      45989 non-null object\n",
            " market           45470 non-null object\n",
            "status            48124 non-null object\n",
            "region            44164 non-null object\n",
            "funding_rounds    49437 non-null object\n",
            "founded_year      38482 non-null object\n",
            "round_C           49438 non-null int64\n",
            "round_D           49438 non-null int64\n",
            "round_E           49438 non-null int64\n",
            "Unnamed: 10       4 non-null float64\n",
            "dtypes: float64(1), int64(3), object(7)\n",
            "memory usage: 4.1+ MB\n"
          ],
          "name": "stdout"
        }
      ]
    },
    {
      "cell_type": "code",
      "metadata": {
        "id": "3x_FEY6B_N2N",
        "colab_type": "code",
        "outputId": "6ebc41da-14e7-496f-9c76-4872d49f9920",
        "colab": {
          "base_uri": "https://localhost:8080/",
          "height": 297
        }
      },
      "source": [
        "si.describe()"
      ],
      "execution_count": 0,
      "outputs": [
        {
          "output_type": "execute_result",
          "data": {
            "text/html": [
              "<div>\n",
              "<style scoped>\n",
              "    .dataframe tbody tr th:only-of-type {\n",
              "        vertical-align: middle;\n",
              "    }\n",
              "\n",
              "    .dataframe tbody tr th {\n",
              "        vertical-align: top;\n",
              "    }\n",
              "\n",
              "    .dataframe thead th {\n",
              "        text-align: right;\n",
              "    }\n",
              "</style>\n",
              "<table border=\"1\" class=\"dataframe\">\n",
              "  <thead>\n",
              "    <tr style=\"text-align: right;\">\n",
              "      <th></th>\n",
              "      <th>round_C</th>\n",
              "      <th>round_D</th>\n",
              "      <th>round_E</th>\n",
              "      <th>Unnamed: 10</th>\n",
              "    </tr>\n",
              "  </thead>\n",
              "  <tbody>\n",
              "    <tr>\n",
              "      <th>count</th>\n",
              "      <td>4.943800e+04</td>\n",
              "      <td>4.943800e+04</td>\n",
              "      <td>4.943800e+04</td>\n",
              "      <td>23428.0</td>\n",
              "    </tr>\n",
              "    <tr>\n",
              "      <th>mean</th>\n",
              "      <td>1.205075e+06</td>\n",
              "      <td>7.378072e+05</td>\n",
              "      <td>3.424682e+05</td>\n",
              "      <td>0.0</td>\n",
              "    </tr>\n",
              "    <tr>\n",
              "      <th>std</th>\n",
              "      <td>7.993390e+06</td>\n",
              "      <td>9.815396e+06</td>\n",
              "      <td>5.406915e+06</td>\n",
              "      <td>0.0</td>\n",
              "    </tr>\n",
              "    <tr>\n",
              "      <th>min</th>\n",
              "      <td>0.000000e+00</td>\n",
              "      <td>0.000000e+00</td>\n",
              "      <td>0.000000e+00</td>\n",
              "      <td>0.0</td>\n",
              "    </tr>\n",
              "    <tr>\n",
              "      <th>25%</th>\n",
              "      <td>0.000000e+00</td>\n",
              "      <td>0.000000e+00</td>\n",
              "      <td>0.000000e+00</td>\n",
              "      <td>0.0</td>\n",
              "    </tr>\n",
              "    <tr>\n",
              "      <th>50%</th>\n",
              "      <td>0.000000e+00</td>\n",
              "      <td>0.000000e+00</td>\n",
              "      <td>0.000000e+00</td>\n",
              "      <td>0.0</td>\n",
              "    </tr>\n",
              "    <tr>\n",
              "      <th>75%</th>\n",
              "      <td>0.000000e+00</td>\n",
              "      <td>0.000000e+00</td>\n",
              "      <td>0.000000e+00</td>\n",
              "      <td>0.0</td>\n",
              "    </tr>\n",
              "    <tr>\n",
              "      <th>max</th>\n",
              "      <td>4.900000e+08</td>\n",
              "      <td>1.200000e+09</td>\n",
              "      <td>4.000000e+08</td>\n",
              "      <td>0.0</td>\n",
              "    </tr>\n",
              "  </tbody>\n",
              "</table>\n",
              "</div>"
            ],
            "text/plain": [
              "            round_C       round_D       round_E  Unnamed: 10\n",
              "count  4.943800e+04  4.943800e+04  4.943800e+04      23428.0\n",
              "mean   1.205075e+06  7.378072e+05  3.424682e+05          0.0\n",
              "std    7.993390e+06  9.815396e+06  5.406915e+06          0.0\n",
              "min    0.000000e+00  0.000000e+00  0.000000e+00          0.0\n",
              "25%    0.000000e+00  0.000000e+00  0.000000e+00          0.0\n",
              "50%    0.000000e+00  0.000000e+00  0.000000e+00          0.0\n",
              "75%    0.000000e+00  0.000000e+00  0.000000e+00          0.0\n",
              "max    4.900000e+08  1.200000e+09  4.000000e+08          0.0"
            ]
          },
          "metadata": {
            "tags": []
          },
          "execution_count": 36
        }
      ]
    },
    {
      "cell_type": "code",
      "metadata": {
        "id": "iCHnvDm66yQb",
        "colab_type": "code",
        "colab": {}
      },
      "source": [
        "si=si.fillna(method='bfill')"
      ],
      "execution_count": 0,
      "outputs": []
    },
    {
      "cell_type": "code",
      "metadata": {
        "colab_type": "code",
        "outputId": "83117045-dfac-40ce-e082-9e37c95ced8f",
        "id": "NQyjDig8CtPq",
        "colab": {
          "base_uri": "https://localhost:8080/",
          "height": 289
        }
      },
      "source": [
        "si.info()"
      ],
      "execution_count": 0,
      "outputs": [
        {
          "output_type": "stream",
          "text": [
            "<class 'pandas.core.frame.DataFrame'>\n",
            "RangeIndex: 49438 entries, 0 to 49437\n",
            "Data columns (total 11 columns):\n",
            "name              49438 non-null object\n",
            "homepage_url      49438 non-null object\n",
            " market           49438 non-null object\n",
            "status            49438 non-null object\n",
            "region            49438 non-null object\n",
            "funding_rounds    49438 non-null object\n",
            "founded_year      49438 non-null object\n",
            "round_C           49438 non-null int64\n",
            "round_D           49438 non-null int64\n",
            "round_E           49438 non-null int64\n",
            "Unnamed: 10       23428 non-null float64\n",
            "dtypes: float64(1), int64(3), object(7)\n",
            "memory usage: 4.1+ MB\n"
          ],
          "name": "stdout"
        }
      ]
    },
    {
      "cell_type": "code",
      "metadata": {
        "id": "GSD94Utv2jgw",
        "colab_type": "code",
        "outputId": "ca085557-38fc-4cf0-9f37-ff9719858683",
        "colab": {
          "base_uri": "https://localhost:8080/",
          "height": 221
        }
      },
      "source": [
        "si.dtypes #specifies the data type of each column"
      ],
      "execution_count": 0,
      "outputs": [
        {
          "output_type": "execute_result",
          "data": {
            "text/plain": [
              "name               object\n",
              "homepage_url       object\n",
              " market            object\n",
              "status             object\n",
              "region             object\n",
              "funding_rounds     object\n",
              "founded_year       object\n",
              "round_C             int64\n",
              "round_D             int64\n",
              "round_E             int64\n",
              "Unnamed: 10       float64\n",
              "dtype: object"
            ]
          },
          "metadata": {
            "tags": []
          },
          "execution_count": 39
        }
      ]
    },
    {
      "cell_type": "code",
      "metadata": {
        "id": "q2efLaH32z83",
        "colab_type": "code",
        "colab": {}
      },
      "source": [
        "si[\"status\"]=si.status.astype(\"category\") #changes data type of market .i.e, object into category"
      ],
      "execution_count": 0,
      "outputs": []
    },
    {
      "cell_type": "code",
      "metadata": {
        "id": "NbcIwpSE42P5",
        "colab_type": "code",
        "outputId": "174ab7a3-5a91-42f2-ee96-ccda71586eee",
        "colab": {
          "base_uri": "https://localhost:8080/",
          "height": 221
        }
      },
      "source": [
        "si.dtypes"
      ],
      "execution_count": 0,
      "outputs": [
        {
          "output_type": "execute_result",
          "data": {
            "text/plain": [
              "name                object\n",
              "homepage_url        object\n",
              " market             object\n",
              "status            category\n",
              "region              object\n",
              "funding_rounds      object\n",
              "founded_year        object\n",
              "round_C              int64\n",
              "round_D              int64\n",
              "round_E              int64\n",
              "Unnamed: 10        float64\n",
              "dtype: object"
            ]
          },
          "metadata": {
            "tags": []
          },
          "execution_count": 11
        }
      ]
    },
    {
      "cell_type": "code",
      "metadata": {
        "id": "TF7PeljN6Kag",
        "colab_type": "code",
        "outputId": "fcf053d2-e277-4cc8-d4d4-5b63b8885e7a",
        "colab": {
          "base_uri": "https://localhost:8080/",
          "height": 136
        }
      },
      "source": [
        "si.status.head() #checking the data type of status"
      ],
      "execution_count": 0,
      "outputs": [
        {
          "output_type": "execute_result",
          "data": {
            "text/plain": [
              "0     acquired\n",
              "1    operating\n",
              "2    operating\n",
              "3    operating\n",
              "4    operating\n",
              "Name: status, dtype: category\n",
              "Categories (6, object): [-, 1,39,00,000, 5,00,000, acquired, closed, operating]"
            ]
          },
          "metadata": {
            "tags": []
          },
          "execution_count": 41
        }
      ]
    },
    {
      "cell_type": "markdown",
      "metadata": {
        "id": "qpHUeqzj_cIe",
        "colab_type": "text"
      },
      "source": [
        "Variance"
      ]
    },
    {
      "cell_type": "code",
      "metadata": {
        "id": "8brAxSEM_fGh",
        "colab_type": "code",
        "outputId": "a5aba7fc-c4d6-48fc-e15c-30a11018ee07",
        "colab": {
          "base_uri": "https://localhost:8080/",
          "height": 102
        }
      },
      "source": [
        "si.var()"
      ],
      "execution_count": 0,
      "outputs": [
        {
          "output_type": "execute_result",
          "data": {
            "text/plain": [
              "round_C        6.389428e+13\n",
              "round_D        9.634200e+13\n",
              "round_E        2.923473e+13\n",
              "Unnamed: 10    0.000000e+00\n",
              "dtype: float64"
            ]
          },
          "metadata": {
            "tags": []
          },
          "execution_count": 42
        }
      ]
    },
    {
      "cell_type": "code",
      "metadata": {
        "id": "sf8RFzN_AQX9",
        "colab_type": "code",
        "outputId": "183f8979-f3c9-4520-e723-6b58de973a80",
        "colab": {
          "base_uri": "https://localhost:8080/",
          "height": 296
        }
      },
      "source": [
        "plt.scatter(si[\"region\"],si[\"funding_rounds\"],color=\"green\")\n",
        "plt.title(\"Area and funding_rounds\")\n",
        "plt.xlabel(\"Region\")\n",
        "plt.ylabel(\"funding_rounds\")\n",
        "plt.show()"
      ],
      "execution_count": 0,
      "outputs": [
        {
          "output_type": "display_data",
          "data": {
            "image/png": "[encoded data removed]",
            "text/plain": [
              "<Figure size 432x288 with 1 Axes>"
            ]
          },
          "metadata": {
            "tags": []
          }
        }
      ]
    },
    {
      "cell_type": "code",
      "metadata": {
        "id": "YYKe2QCkGifu",
        "colab_type": "code",
        "outputId": "802acd7d-4a81-4e8b-e738-7c9647a5ba8b",
        "colab": {
          "base_uri": "https://localhost:8080/",
          "height": 296
        }
      },
      "source": [
        "plt.hist(si[\"region\"],color=\"green\",bins=5)\n",
        "plt.title(\"Area and funding_rounds\")\n",
        "plt.xlabel(\"Region\")\n",
        "plt.ylabel(\"funding_rounds\")\n",
        "plt.show()"
      ],
      "execution_count": 0,
      "outputs": [
        {
          "output_type": "display_data",
          "data": {
            "image/png": "[encoded data removed]",
            "text/plain": [
              "<Figure size 432x288 with 1 Axes>"
            ]
          },
          "metadata": {
            "tags": []
          }
        }
      ]
    },
    {
      "cell_type": "markdown",
      "metadata": {
        "id": "YbWuYA3UrEq6",
        "colab_type": "text"
      },
      "source": [
        "**Answers**"
      ]
    },
    {
      "cell_type": "markdown",
      "metadata": {
        "id": "PbeFYoyxrL7P",
        "colab_type": "text"
      },
      "source": [
        "1.There are two types of data structures in pandas: a)Series b)DataFrames.\n",
        "1. Series: A Pandas Series is a one dimensional data structure that can store values and for every value it holds a unique index\n",
        "2.  DataFrame: A Pandas DataFrame is a two or more dimensional data structure – \n",
        "basically a table with rows and columns. The columns have names and the rows have indexes."
      ]
    },
    {
      "cell_type": "markdown",
      "metadata": {
        "id": "Mm7wg1iNtLMh",
        "colab_type": "text"
      },
      "source": [
        "2. Variance Function in pandas is used to calculate variance of a given set of numbers, Variance of a data frame, Variance of column and Variance of rows\n",
        "     dataframe is:\n",
        "                  dataframe.var()"
      ]
    },
    {
      "cell_type": "markdown",
      "metadata": {
        "id": "i5zl3C4-t4wx",
        "colab_type": "text"
      },
      "source": [
        "3. Measures of central tendency and measures of dispersion can be calculated in two ways using pandas: Method one is: \n",
        "                                     mean(), \n",
        "                                     median(), \n",
        "                                     mode() \n",
        "Method two is: \n",
        "                                     describe()"
      ]
    },
    {
      "cell_type": "markdown",
      "metadata": {
        "id": "GkAYGKGi2Iwz",
        "colab_type": "text"
      },
      "source": [
        "4. For finding the location of an element in a dataset we use dataframe:\n",
        "                                                                    print(dataset.rloc[any number])"
      ]
    },
    {
      "cell_type": "markdown",
      "metadata": {
        "id": "ZADCo0MT3gzi",
        "colab_type": "text"
      },
      "source": [
        "5. To print the first five elements of the dataset the dataframe is:\n",
        "                                                             dataframe.head()\n",
        "   To print the last five elements of the dataset the dataframe is:\n",
        "                                                             dataframe.tail()                                                                 "
      ]
    },
    {
      "cell_type": "markdown",
      "metadata": {
        "id": "ElyH54Zg7L1r",
        "colab_type": "text"
      },
      "source": [
        "6. The dataframe to replace the null valuse in pandas is given below:\n",
        "                                                                  dataframe.fillna()"
      ]
    },
    {
      "cell_type": "markdown",
      "metadata": {
        "id": "H7yCuOc64NAl",
        "colab_type": "text"
      },
      "source": [
        "7. To draw a set or bar graph for the dataset in pandas we use the dataframe:\n",
        "                                                                         plt.bar(x,y) "
      ]
    }
  ]
}